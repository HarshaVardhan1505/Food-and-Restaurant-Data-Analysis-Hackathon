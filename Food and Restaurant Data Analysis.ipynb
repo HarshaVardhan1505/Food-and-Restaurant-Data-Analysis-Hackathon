{
 "cells": [
  {
   "cell_type": "code",
   "execution_count": 2,
   "id": "0bc050b2-a2a3-44f2-8a2a-4fbf6c81cfd7",
   "metadata": {},
   "outputs": [],
   "source": [
    "import pandas as pd\n",
    "import numpy as np\n",
    "import matplotlib.pyplot as plt\n",
    "import seaborn as sns\n",
    "\n",
    "\n"
   ]
  },
  {
   "cell_type": "code",
   "execution_count": 47,
   "id": "3743e421-a389-44b0-8990-a97f525763a9",
   "metadata": {},
   "outputs": [],
   "source": [
    "#  Load the Dataset\n",
    "df = pd.read_csv(r\"C:\\Users\\harsh\\Downloads\\zomato_data.csv\")"
   ]
  },
  {
   "cell_type": "code",
   "execution_count": 48,
   "id": "b8886aa0-5c01-4150-921a-67ecfa950158",
   "metadata": {},
   "outputs": [
    {
     "name": "stdout",
     "output_type": "stream",
     "text": [
      "  online_order book_table   rate  votes            rest_type  \\\n",
      "0          Yes        Yes  4.1/5    775        Casual Dining   \n",
      "1          Yes         No  4.1/5    787        Casual Dining   \n",
      "2          Yes         No  3.8/5    918  Cafe, Casual Dining   \n",
      "3           No         No  3.7/5     88          Quick Bites   \n",
      "4           No         No  3.8/5    166        Casual Dining   \n",
      "\n",
      "                                          dish_liked  \\\n",
      "0  Pasta, Lunch Buffet, Masala Papad, Paneer Laja...   \n",
      "1  Momos, Lunch Buffet, Chocolate Nirvana, Thai G...   \n",
      "2  Churros, Cannelloni, Minestrone Soup, Hot Choc...   \n",
      "3                                        Masala Dosa   \n",
      "4                                Panipuri, Gol Gappe   \n",
      "\n",
      "                         cuisines approx_costfor_two_people listed_intype  \\\n",
      "0  North Indian, Mughlai, Chinese                       800        Buffet   \n",
      "1     Chinese, North Indian, Thai                       800        Buffet   \n",
      "2          Cafe, Mexican, Italian                       800        Buffet   \n",
      "3      South Indian, North Indian                       300        Buffet   \n",
      "4        North Indian, Rajasthani                       600        Buffet   \n",
      "\n",
      "  listed_incity  \n",
      "0  Banashankari  \n",
      "1  Banashankari  \n",
      "2  Banashankari  \n",
      "3  Banashankari  \n",
      "4  Banashankari  \n",
      "<class 'pandas.core.frame.DataFrame'>\n",
      "RangeIndex: 51717 entries, 0 to 51716\n",
      "Data columns (total 10 columns):\n",
      " #   Column                     Non-Null Count  Dtype \n",
      "---  ------                     --------------  ----- \n",
      " 0   online_order               51717 non-null  object\n",
      " 1   book_table                 51717 non-null  object\n",
      " 2   rate                       43942 non-null  object\n",
      " 3   votes                      51717 non-null  int64 \n",
      " 4   rest_type                  51490 non-null  object\n",
      " 5   dish_liked                 23639 non-null  object\n",
      " 6   cuisines                   51672 non-null  object\n",
      " 7   approx_costfor_two_people  51371 non-null  object\n",
      " 8   listed_intype              51717 non-null  object\n",
      " 9   listed_incity              51717 non-null  object\n",
      "dtypes: int64(1), object(9)\n",
      "memory usage: 3.9+ MB\n",
      "None\n",
      "              votes\n",
      "count  51717.000000\n",
      "mean     283.697527\n",
      "std      803.838853\n",
      "min        0.000000\n",
      "25%        7.000000\n",
      "50%       41.000000\n",
      "75%      198.000000\n",
      "max    16832.000000\n"
     ]
    }
   ],
   "source": [
    "print(df.head())\n",
    "print(df.info())\n",
    "print(df.describe())"
   ]
  },
  {
   "cell_type": "code",
   "execution_count": 49,
   "id": "dc99de42-d4d5-4d55-a424-630f61809524",
   "metadata": {},
   "outputs": [],
   "source": [
    "df['rate'] = df['rate'].replace(['NEW', '-', 'nan'], np.nan)\n",
    "df['rate'] = df['rate'].astype(str).str.replace('/5', '').str.strip()\n",
    "df['rate'] = pd.to_numeric(df['rate'], errors='coerce')\n",
    "df['rate'] = df['rate'].fillna(df['rate'].median())"
   ]
  },
  {
   "cell_type": "code",
   "execution_count": 50,
   "id": "5a00e732-a830-4ee9-82a7-5dcc84910b49",
   "metadata": {},
   "outputs": [
    {
     "name": "stdout",
     "output_type": "stream",
     "text": [
      "Index(['online_order', 'book_table', 'rate', 'votes', 'rest_type',\n",
      "       'dish_liked', 'cuisines', 'approx_costfor_two_people', 'listed_intype',\n",
      "       'listed_incity'],\n",
      "      dtype='object')\n"
     ]
    }
   ],
   "source": [
    "print(df.columns)"
   ]
  },
  {
   "cell_type": "code",
   "execution_count": 51,
   "id": "34141e3a-aa3f-424a-98c6-9311d11392f7",
   "metadata": {},
   "outputs": [],
   "source": [
    "df.rename(columns={'approx_costfor_two_people': 'cost'}, inplace=True)\n"
   ]
  },
  {
   "cell_type": "code",
   "execution_count": 52,
   "id": "363a998e-24c5-4bcc-9a65-b6831d8ecad3",
   "metadata": {},
   "outputs": [],
   "source": [
    "df['cost'] = df['cost'].astype(str).str.replace(',', '').str.strip()\n",
    "df['cost'] = pd.to_numeric(df['cost'], errors='coerce')\n",
    "df['cost'] = df['cost'].fillna(df['cost'].median())\n"
   ]
  },
  {
   "cell_type": "code",
   "execution_count": 34,
   "id": "787af642-4d36-4575-a909-59ec98be3d44",
   "metadata": {},
   "outputs": [
    {
     "data": {
      "text/plain": [
       "online_order         0\n",
       "book_table           0\n",
       "rate                 0\n",
       "votes                0\n",
       "rest_type          227\n",
       "dish_liked       28078\n",
       "cuisines            45\n",
       "cost                 0\n",
       "listed_intype        0\n",
       "listed_incity        0\n",
       "dtype: int64"
      ]
     },
     "execution_count": 34,
     "metadata": {},
     "output_type": "execute_result"
    }
   ],
   "source": [
    "# Check missing values\n",
    "df.isnull().sum()\n"
   ]
  },
  {
   "cell_type": "code",
   "execution_count": 53,
   "id": "c59d5e21-7790-4dc7-97d2-9b3d0b0e07cf",
   "metadata": {},
   "outputs": [],
   "source": [
    "df.dropna(subset=['rest_type', 'cuisines', 'dish_liked'], inplace=True)"
   ]
  },
  {
   "cell_type": "code",
   "execution_count": 54,
   "id": "dd18c1eb-07d5-477d-9897-7b9d19ed3e8e",
   "metadata": {},
   "outputs": [
    {
     "data": {
      "text/plain": [
       "online_order     0\n",
       "book_table       0\n",
       "rate             0\n",
       "votes            0\n",
       "rest_type        0\n",
       "dish_liked       0\n",
       "cuisines         0\n",
       "cost             0\n",
       "listed_intype    0\n",
       "listed_incity    0\n",
       "dtype: int64"
      ]
     },
     "execution_count": 54,
     "metadata": {},
     "output_type": "execute_result"
    }
   ],
   "source": [
    "df.isnull().sum()\n"
   ]
  },
  {
   "cell_type": "code",
   "execution_count": 65,
   "id": "a4628587-c020-4078-b547-c2c7fc5fbebb",
   "metadata": {},
   "outputs": [
    {
     "name": "stdout",
     "output_type": "stream",
     "text": [
      "Requirement already satisfied: folium in c:\\users\\harsh\\appdata\\local\\programs\\python\\python313\\lib\\site-packages (0.19.5)\n",
      "Requirement already satisfied: branca>=0.6.0 in c:\\users\\harsh\\appdata\\local\\programs\\python\\python313\\lib\\site-packages (from folium) (0.8.1)\n",
      "Requirement already satisfied: jinja2>=2.9 in c:\\users\\harsh\\appdata\\local\\programs\\python\\python313\\lib\\site-packages (from folium) (3.1.5)\n",
      "Requirement already satisfied: numpy in c:\\users\\harsh\\appdata\\local\\programs\\python\\python313\\lib\\site-packages (from folium) (2.1.3)\n",
      "Requirement already satisfied: requests in c:\\users\\harsh\\appdata\\local\\programs\\python\\python313\\lib\\site-packages (from folium) (2.32.3)\n",
      "Requirement already satisfied: xyzservices in c:\\users\\harsh\\appdata\\local\\programs\\python\\python313\\lib\\site-packages (from folium) (2025.1.0)\n",
      "Requirement already satisfied: MarkupSafe>=2.0 in c:\\users\\harsh\\appdata\\local\\programs\\python\\python313\\lib\\site-packages (from jinja2>=2.9->folium) (3.0.2)\n",
      "Requirement already satisfied: charset-normalizer<4,>=2 in c:\\users\\harsh\\appdata\\local\\programs\\python\\python313\\lib\\site-packages (from requests->folium) (3.4.0)\n",
      "Requirement already satisfied: idna<4,>=2.5 in c:\\users\\harsh\\appdata\\local\\programs\\python\\python313\\lib\\site-packages (from requests->folium) (3.10)\n",
      "Requirement already satisfied: urllib3<3,>=1.21.1 in c:\\users\\harsh\\appdata\\local\\programs\\python\\python313\\lib\\site-packages (from requests->folium) (2.3.0)\n",
      "Requirement already satisfied: certifi>=2017.4.17 in c:\\users\\harsh\\appdata\\local\\programs\\python\\python313\\lib\\site-packages (from requests->folium) (2024.12.14)\n",
      "Note: you may need to restart the kernel to use updated packages.\n"
     ]
    }
   ],
   "source": [
    "pip install folium\n"
   ]
  },
  {
   "cell_type": "code",
   "execution_count": 43,
   "id": "5ab7df2b-8606-4f3b-a236-e756a143fef5",
   "metadata": {},
   "outputs": [
    {
     "data": {
      "text/plain": [
       "rest_type\n",
       "Casual Dining         7424\n",
       "Quick Bites           5289\n",
       "Cafe                  2409\n",
       "Dessert Parlor        1086\n",
       "Casual Dining, Bar    1008\n",
       "Delivery               707\n",
       "Bar                    369\n",
       "Bar, Casual Dining     361\n",
       "Takeaway, Delivery     347\n",
       "Pub                    327\n",
       "Name: count, dtype: int64"
      ]
     },
     "execution_count": 43,
     "metadata": {},
     "output_type": "execute_result"
    }
   ],
   "source": [
    "df['rest_type'].value_counts().head(10)\n"
   ]
  },
  {
   "cell_type": "code",
   "execution_count": 44,
   "id": "495f166f-8b89-4833-9e90-1106c7996113",
   "metadata": {},
   "outputs": [
    {
     "data": {
      "text/plain": [
       "online_order\n",
       "Yes    16466\n",
       "No      7103\n",
       "Name: count, dtype: int64"
      ]
     },
     "execution_count": 44,
     "metadata": {},
     "output_type": "execute_result"
    }
   ],
   "source": [
    "df['online_order'].value_counts()\n"
   ]
  },
  {
   "cell_type": "code",
   "execution_count": 45,
   "id": "ac3fa448-7bd7-406b-9cbb-bdf4640ec8a8",
   "metadata": {},
   "outputs": [
    {
     "data": {
      "text/html": [
       "<div>\n",
       "<style scoped>\n",
       "    .dataframe tbody tr th:only-of-type {\n",
       "        vertical-align: middle;\n",
       "    }\n",
       "\n",
       "    .dataframe tbody tr th {\n",
       "        vertical-align: top;\n",
       "    }\n",
       "\n",
       "    .dataframe thead th {\n",
       "        text-align: right;\n",
       "    }\n",
       "</style>\n",
       "<table border=\"1\" class=\"dataframe\">\n",
       "  <thead>\n",
       "    <tr style=\"text-align: right;\">\n",
       "      <th></th>\n",
       "      <th>online_order</th>\n",
       "      <th>book_table</th>\n",
       "      <th>rate</th>\n",
       "      <th>votes</th>\n",
       "      <th>rest_type</th>\n",
       "      <th>dish_liked</th>\n",
       "      <th>cuisines</th>\n",
       "      <th>cost</th>\n",
       "      <th>listed_intype</th>\n",
       "      <th>listed_incity</th>\n",
       "    </tr>\n",
       "  </thead>\n",
       "  <tbody>\n",
       "    <tr>\n",
       "      <th>28403</th>\n",
       "      <td>Yes</td>\n",
       "      <td>Yes</td>\n",
       "      <td>4.9</td>\n",
       "      <td>2227</td>\n",
       "      <td>Casual Dining, Bar</td>\n",
       "      <td>Chicken Dim Sum, Pad Thai Noodle, Jumbo Prawns...</td>\n",
       "      <td>Asian, Chinese, Thai, Momos</td>\n",
       "      <td>1500.0</td>\n",
       "      <td>Dine-out</td>\n",
       "      <td>Koramangala 4th Block</td>\n",
       "    </tr>\n",
       "    <tr>\n",
       "      <th>37613</th>\n",
       "      <td>Yes</td>\n",
       "      <td>Yes</td>\n",
       "      <td>4.9</td>\n",
       "      <td>2256</td>\n",
       "      <td>Casual Dining, Bar</td>\n",
       "      <td>Noodles, Chicken Dim Sum, Pad Thai Noodle, Jum...</td>\n",
       "      <td>Asian, Chinese, Thai, Momos</td>\n",
       "      <td>1500.0</td>\n",
       "      <td>Pubs and bars</td>\n",
       "      <td>Koramangala 7th Block</td>\n",
       "    </tr>\n",
       "    <tr>\n",
       "      <th>37099</th>\n",
       "      <td>No</td>\n",
       "      <td>Yes</td>\n",
       "      <td>4.9</td>\n",
       "      <td>6490</td>\n",
       "      <td>Casual Dining</td>\n",
       "      <td>Tangdi Chicken, Bbq Buffet, Chocolate Icecream...</td>\n",
       "      <td>European, Mediterranean, North Indian, BBQ</td>\n",
       "      <td>1600.0</td>\n",
       "      <td>Dine-out</td>\n",
       "      <td>Koramangala 7th Block</td>\n",
       "    </tr>\n",
       "    <tr>\n",
       "      <th>51042</th>\n",
       "      <td>No</td>\n",
       "      <td>Yes</td>\n",
       "      <td>4.9</td>\n",
       "      <td>3004</td>\n",
       "      <td>Casual Dining</td>\n",
       "      <td>Pizza, Mutton Kebab, Chicken Biryani, Sea Food...</td>\n",
       "      <td>Asian, Mediterranean, North Indian, BBQ</td>\n",
       "      <td>1400.0</td>\n",
       "      <td>Dine-out</td>\n",
       "      <td>Whitefield</td>\n",
       "    </tr>\n",
       "    <tr>\n",
       "      <th>29271</th>\n",
       "      <td>Yes</td>\n",
       "      <td>Yes</td>\n",
       "      <td>4.9</td>\n",
       "      <td>2235</td>\n",
       "      <td>Casual Dining, Bar</td>\n",
       "      <td>Noodles, Chicken Dim Sum, Pad Thai Noodle, Jum...</td>\n",
       "      <td>Asian, Chinese, Thai, Momos</td>\n",
       "      <td>1500.0</td>\n",
       "      <td>Buffet</td>\n",
       "      <td>Koramangala 5th Block</td>\n",
       "    </tr>\n",
       "    <tr>\n",
       "      <th>42381</th>\n",
       "      <td>Yes</td>\n",
       "      <td>No</td>\n",
       "      <td>4.9</td>\n",
       "      <td>1750</td>\n",
       "      <td>Dessert Parlor</td>\n",
       "      <td>Coffee, Berryblast, Nachos, Chocolate Waffles,...</td>\n",
       "      <td>Desserts</td>\n",
       "      <td>400.0</td>\n",
       "      <td>Delivery</td>\n",
       "      <td>MG Road</td>\n",
       "    </tr>\n",
       "    <tr>\n",
       "      <th>12380</th>\n",
       "      <td>Yes</td>\n",
       "      <td>No</td>\n",
       "      <td>4.9</td>\n",
       "      <td>1744</td>\n",
       "      <td>Dessert Parlor</td>\n",
       "      <td>Coffee, Berryblast, Nachos, Chocolate Waffles,...</td>\n",
       "      <td>Desserts</td>\n",
       "      <td>400.0</td>\n",
       "      <td>Desserts</td>\n",
       "      <td>Church Street</td>\n",
       "    </tr>\n",
       "    <tr>\n",
       "      <th>19393</th>\n",
       "      <td>No</td>\n",
       "      <td>Yes</td>\n",
       "      <td>4.9</td>\n",
       "      <td>6404</td>\n",
       "      <td>Casual Dining</td>\n",
       "      <td>Tangdi Chicken, Bbq Buffet, Chocolate Icecream...</td>\n",
       "      <td>European, Mediterranean, North Indian, BBQ</td>\n",
       "      <td>1600.0</td>\n",
       "      <td>Buffet</td>\n",
       "      <td>Jayanagar</td>\n",
       "    </tr>\n",
       "    <tr>\n",
       "      <th>45812</th>\n",
       "      <td>No</td>\n",
       "      <td>Yes</td>\n",
       "      <td>4.9</td>\n",
       "      <td>246</td>\n",
       "      <td>Casual Dining</td>\n",
       "      <td>Biryani, Tomato Soup, Farm Pizza, Dumplings, L...</td>\n",
       "      <td>Healthy Food, Salad, Mediterranean</td>\n",
       "      <td>1000.0</td>\n",
       "      <td>Dine-out</td>\n",
       "      <td>Old Airport Road</td>\n",
       "    </tr>\n",
       "    <tr>\n",
       "      <th>46253</th>\n",
       "      <td>Yes</td>\n",
       "      <td>Yes</td>\n",
       "      <td>4.9</td>\n",
       "      <td>1973</td>\n",
       "      <td>Casual Dining</td>\n",
       "      <td>Chicken Malai Tikka, Jalebi Rabri, Lunch Buffe...</td>\n",
       "      <td>North Indian, Mughlai</td>\n",
       "      <td>2000.0</td>\n",
       "      <td>Delivery</td>\n",
       "      <td>Rajajinagar</td>\n",
       "    </tr>\n",
       "  </tbody>\n",
       "</table>\n",
       "</div>"
      ],
      "text/plain": [
       "      online_order book_table  rate  votes           rest_type  \\\n",
       "28403          Yes        Yes   4.9   2227  Casual Dining, Bar   \n",
       "37613          Yes        Yes   4.9   2256  Casual Dining, Bar   \n",
       "37099           No        Yes   4.9   6490       Casual Dining   \n",
       "51042           No        Yes   4.9   3004       Casual Dining   \n",
       "29271          Yes        Yes   4.9   2235  Casual Dining, Bar   \n",
       "42381          Yes         No   4.9   1750      Dessert Parlor   \n",
       "12380          Yes         No   4.9   1744      Dessert Parlor   \n",
       "19393           No        Yes   4.9   6404       Casual Dining   \n",
       "45812           No        Yes   4.9    246       Casual Dining   \n",
       "46253          Yes        Yes   4.9   1973       Casual Dining   \n",
       "\n",
       "                                              dish_liked  \\\n",
       "28403  Chicken Dim Sum, Pad Thai Noodle, Jumbo Prawns...   \n",
       "37613  Noodles, Chicken Dim Sum, Pad Thai Noodle, Jum...   \n",
       "37099  Tangdi Chicken, Bbq Buffet, Chocolate Icecream...   \n",
       "51042  Pizza, Mutton Kebab, Chicken Biryani, Sea Food...   \n",
       "29271  Noodles, Chicken Dim Sum, Pad Thai Noodle, Jum...   \n",
       "42381  Coffee, Berryblast, Nachos, Chocolate Waffles,...   \n",
       "12380  Coffee, Berryblast, Nachos, Chocolate Waffles,...   \n",
       "19393  Tangdi Chicken, Bbq Buffet, Chocolate Icecream...   \n",
       "45812  Biryani, Tomato Soup, Farm Pizza, Dumplings, L...   \n",
       "46253  Chicken Malai Tikka, Jalebi Rabri, Lunch Buffe...   \n",
       "\n",
       "                                         cuisines    cost  listed_intype  \\\n",
       "28403                 Asian, Chinese, Thai, Momos  1500.0       Dine-out   \n",
       "37613                 Asian, Chinese, Thai, Momos  1500.0  Pubs and bars   \n",
       "37099  European, Mediterranean, North Indian, BBQ  1600.0       Dine-out   \n",
       "51042     Asian, Mediterranean, North Indian, BBQ  1400.0       Dine-out   \n",
       "29271                 Asian, Chinese, Thai, Momos  1500.0         Buffet   \n",
       "42381                                    Desserts   400.0       Delivery   \n",
       "12380                                    Desserts   400.0       Desserts   \n",
       "19393  European, Mediterranean, North Indian, BBQ  1600.0         Buffet   \n",
       "45812          Healthy Food, Salad, Mediterranean  1000.0       Dine-out   \n",
       "46253                       North Indian, Mughlai  2000.0       Delivery   \n",
       "\n",
       "               listed_incity  \n",
       "28403  Koramangala 4th Block  \n",
       "37613  Koramangala 7th Block  \n",
       "37099  Koramangala 7th Block  \n",
       "51042             Whitefield  \n",
       "29271  Koramangala 5th Block  \n",
       "42381                MG Road  \n",
       "12380          Church Street  \n",
       "19393              Jayanagar  \n",
       "45812       Old Airport Road  \n",
       "46253            Rajajinagar  "
      ]
     },
     "execution_count": 45,
     "metadata": {},
     "output_type": "execute_result"
    }
   ],
   "source": [
    "df.sort_values(by='rate', ascending=False).head(10)\n"
   ]
  },
  {
   "cell_type": "code",
   "execution_count": 46,
   "id": "566d4d26-c138-4492-b1a9-054efdb81eed",
   "metadata": {},
   "outputs": [
    {
     "data": {
      "text/plain": [
       "count    23569.000000\n",
       "mean       753.177479\n",
       "std        519.426642\n",
       "min         40.000000\n",
       "25%        400.000000\n",
       "50%        600.000000\n",
       "75%       1000.000000\n",
       "max       6000.000000\n",
       "Name: cost, dtype: float64"
      ]
     },
     "execution_count": 46,
     "metadata": {},
     "output_type": "execute_result"
    }
   ],
   "source": [
    "df['cost'].describe()\n"
   ]
  },
  {
   "cell_type": "code",
   "execution_count": 67,
   "id": "2891d729-9892-415b-bd05-f12128b8374c",
   "metadata": {},
   "outputs": [
    {
     "name": "stdout",
     "output_type": "stream",
     "text": [
      "Requirement already satisfied: folium in c:\\users\\harsh\\appdata\\local\\programs\\python\\python313\\lib\\site-packages (0.19.5)\n",
      "Requirement already satisfied: branca>=0.6.0 in c:\\users\\harsh\\appdata\\local\\programs\\python\\python313\\lib\\site-packages (from folium) (0.8.1)\n",
      "Requirement already satisfied: jinja2>=2.9 in c:\\users\\harsh\\appdata\\local\\programs\\python\\python313\\lib\\site-packages (from folium) (3.1.5)\n",
      "Requirement already satisfied: numpy in c:\\users\\harsh\\appdata\\local\\programs\\python\\python313\\lib\\site-packages (from folium) (2.1.3)\n",
      "Requirement already satisfied: requests in c:\\users\\harsh\\appdata\\local\\programs\\python\\python313\\lib\\site-packages (from folium) (2.32.3)\n",
      "Requirement already satisfied: xyzservices in c:\\users\\harsh\\appdata\\local\\programs\\python\\python313\\lib\\site-packages (from folium) (2025.1.0)\n",
      "Requirement already satisfied: MarkupSafe>=2.0 in c:\\users\\harsh\\appdata\\local\\programs\\python\\python313\\lib\\site-packages (from jinja2>=2.9->folium) (3.0.2)\n",
      "Requirement already satisfied: charset-normalizer<4,>=2 in c:\\users\\harsh\\appdata\\local\\programs\\python\\python313\\lib\\site-packages (from requests->folium) (3.4.0)\n",
      "Requirement already satisfied: idna<4,>=2.5 in c:\\users\\harsh\\appdata\\local\\programs\\python\\python313\\lib\\site-packages (from requests->folium) (3.10)\n",
      "Requirement already satisfied: urllib3<3,>=1.21.1 in c:\\users\\harsh\\appdata\\local\\programs\\python\\python313\\lib\\site-packages (from requests->folium) (2.3.0)\n",
      "Requirement already satisfied: certifi>=2017.4.17 in c:\\users\\harsh\\appdata\\local\\programs\\python\\python313\\lib\\site-packages (from requests->folium) (2024.12.14)\n",
      "Note: you may need to restart the kernel to use updated packages.\n"
     ]
    }
   ],
   "source": [
    "pip install folium\n"
   ]
  },
  {
   "cell_type": "code",
   "execution_count": 56,
   "id": "ef86c379-af8f-4920-9c9b-21d64273dfab",
   "metadata": {},
   "outputs": [],
   "source": [
    "import folium\n",
    "from folium.plugins import MarkerCluster\n"
   ]
  },
  {
   "cell_type": "code",
   "execution_count": 57,
   "id": "5c618a94-763b-4710-bac5-77e099153b84",
   "metadata": {},
   "outputs": [
    {
     "data": {
      "text/plain": [
       "array(['Banashankari', 'Bannerghatta Road', 'Basavanagudi', 'Bellandur',\n",
       "       'Brigade Road', 'Brookefield', 'BTM', 'Church Street',\n",
       "       'Electronic City', 'Frazer Town', 'HSR', 'Indiranagar',\n",
       "       'Jayanagar', 'JP Nagar', 'Kalyan Nagar', 'Kammanahalli',\n",
       "       'Koramangala 4th Block', 'Koramangala 5th Block',\n",
       "       'Koramangala 6th Block', 'Koramangala 7th Block', 'Lavelle Road',\n",
       "       'Malleshwaram', 'Marathahalli', 'MG Road', 'New BEL Road',\n",
       "       'Old Airport Road', 'Rajajinagar', 'Residency Road',\n",
       "       'Sarjapur Road', 'Whitefield'], dtype=object)"
      ]
     },
     "execution_count": 57,
     "metadata": {},
     "output_type": "execute_result"
    }
   ],
   "source": [
    "df['listed_incity'].unique()\n"
   ]
  },
  {
   "cell_type": "code",
   "execution_count": 72,
   "id": "30c5f3a9-499b-43d7-8159-e4038d88b759",
   "metadata": {},
   "outputs": [
    {
     "data": {
      "image/png": "[encoded data removed]",
      "text/plain": [
       "<Figure size 1200x600 with 1 Axes>"
      ]
     },
     "metadata": {},
     "output_type": "display_data"
    }
   ],
   "source": [
    "plt.figure(figsize=(12,6))\n",
    "sns.countplot(\n",
    "    data=df,\n",
    "    y='listed_incity',\n",
    "    hue='listed_incity',  \n",
    "    order=df['listed_incity'].value_counts().head(10).index,\n",
    "    palette='viridis',\n",
    "    legend=False  \n",
    ")\n",
    "plt.title('Top 10 Areas with Most Restaurants')\n",
    "plt.xlabel('Number of Restaurants')\n",
    "plt.ylabel('Location')\n",
    "plt.tight_layout()\n",
    "plt.show()\n"
   ]
  },
  {
   "cell_type": "code",
   "execution_count": 73,
   "id": "17bebd34-7b86-4be9-b557-0b25a6b01a60",
   "metadata": {},
   "outputs": [
    {
     "data": {
      "image/png": "[encoded data removed]",
      "text/plain": [
       "<Figure size 1000x600 with 1 Axes>"
      ]
     },
     "metadata": {},
     "output_type": "display_data"
    }
   ],
   "source": [
    "top_cuisines = df['cuisines'].value_counts().head(10)\n",
    "top_cuisines.plot(kind='barh', color='coral', figsize=(10,6), title='Top 10 Cuisines in Bangalore')\n",
    "plt.xlabel(\"Number of Restaurants\")\n",
    "plt.gca().invert_yaxis()\n",
    "plt.show()\n"
   ]
  },
  {
   "cell_type": "code",
   "execution_count": 90,
   "id": "212a8fc4-4644-4964-a061-0d015fd30221",
   "metadata": {},
   "outputs": [
    {
     "data": {
      "text/html": [
       "<div>\n",
       "<style scoped>\n",
       "    .dataframe tbody tr th:only-of-type {\n",
       "        vertical-align: middle;\n",
       "    }\n",
       "\n",
       "    .dataframe tbody tr th {\n",
       "        vertical-align: top;\n",
       "    }\n",
       "\n",
       "    .dataframe thead th {\n",
       "        text-align: right;\n",
       "    }\n",
       "</style>\n",
       "<table border=\"1\" class=\"dataframe\">\n",
       "  <thead>\n",
       "    <tr style=\"text-align: right;\">\n",
       "      <th></th>\n",
       "      <th>online_order</th>\n",
       "      <th>book_table</th>\n",
       "      <th>rate</th>\n",
       "      <th>votes</th>\n",
       "      <th>rest_type</th>\n",
       "      <th>dish_liked</th>\n",
       "      <th>cuisines</th>\n",
       "      <th>cost</th>\n",
       "      <th>listed_intype</th>\n",
       "      <th>listed_incity</th>\n",
       "      <th>Latitude</th>\n",
       "      <th>Longitude</th>\n",
       "    </tr>\n",
       "  </thead>\n",
       "  <tbody>\n",
       "    <tr>\n",
       "      <th>0</th>\n",
       "      <td>Yes</td>\n",
       "      <td>Yes</td>\n",
       "      <td>4.1</td>\n",
       "      <td>775</td>\n",
       "      <td>Casual Dining</td>\n",
       "      <td>Pasta, Lunch Buffet, Masala Papad, Paneer Laja...</td>\n",
       "      <td>North Indian, Mughlai, Chinese</td>\n",
       "      <td>800.0</td>\n",
       "      <td>Buffet</td>\n",
       "      <td>Banashankari</td>\n",
       "      <td>12.939333</td>\n",
       "      <td>77.553982</td>\n",
       "    </tr>\n",
       "    <tr>\n",
       "      <th>1</th>\n",
       "      <td>Yes</td>\n",
       "      <td>No</td>\n",
       "      <td>4.1</td>\n",
       "      <td>787</td>\n",
       "      <td>Casual Dining</td>\n",
       "      <td>Momos, Lunch Buffet, Chocolate Nirvana, Thai G...</td>\n",
       "      <td>Chinese, North Indian, Thai</td>\n",
       "      <td>800.0</td>\n",
       "      <td>Buffet</td>\n",
       "      <td>Banashankari</td>\n",
       "      <td>12.939333</td>\n",
       "      <td>77.553982</td>\n",
       "    </tr>\n",
       "    <tr>\n",
       "      <th>2</th>\n",
       "      <td>Yes</td>\n",
       "      <td>No</td>\n",
       "      <td>3.8</td>\n",
       "      <td>918</td>\n",
       "      <td>Cafe, Casual Dining</td>\n",
       "      <td>Churros, Cannelloni, Minestrone Soup, Hot Choc...</td>\n",
       "      <td>Cafe, Mexican, Italian</td>\n",
       "      <td>800.0</td>\n",
       "      <td>Buffet</td>\n",
       "      <td>Banashankari</td>\n",
       "      <td>12.939333</td>\n",
       "      <td>77.553982</td>\n",
       "    </tr>\n",
       "    <tr>\n",
       "      <th>3</th>\n",
       "      <td>No</td>\n",
       "      <td>No</td>\n",
       "      <td>3.7</td>\n",
       "      <td>88</td>\n",
       "      <td>Quick Bites</td>\n",
       "      <td>Masala Dosa</td>\n",
       "      <td>South Indian, North Indian</td>\n",
       "      <td>300.0</td>\n",
       "      <td>Buffet</td>\n",
       "      <td>Banashankari</td>\n",
       "      <td>12.939333</td>\n",
       "      <td>77.553982</td>\n",
       "    </tr>\n",
       "    <tr>\n",
       "      <th>4</th>\n",
       "      <td>No</td>\n",
       "      <td>No</td>\n",
       "      <td>3.8</td>\n",
       "      <td>166</td>\n",
       "      <td>Casual Dining</td>\n",
       "      <td>Panipuri, Gol Gappe</td>\n",
       "      <td>North Indian, Rajasthani</td>\n",
       "      <td>600.0</td>\n",
       "      <td>Buffet</td>\n",
       "      <td>Banashankari</td>\n",
       "      <td>12.939333</td>\n",
       "      <td>77.553982</td>\n",
       "    </tr>\n",
       "  </tbody>\n",
       "</table>\n",
       "</div>"
      ],
      "text/plain": [
       "  online_order book_table  rate  votes            rest_type  \\\n",
       "0          Yes        Yes   4.1    775        Casual Dining   \n",
       "1          Yes         No   4.1    787        Casual Dining   \n",
       "2          Yes         No   3.8    918  Cafe, Casual Dining   \n",
       "3           No         No   3.7     88          Quick Bites   \n",
       "4           No         No   3.8    166        Casual Dining   \n",
       "\n",
       "                                          dish_liked  \\\n",
       "0  Pasta, Lunch Buffet, Masala Papad, Paneer Laja...   \n",
       "1  Momos, Lunch Buffet, Chocolate Nirvana, Thai G...   \n",
       "2  Churros, Cannelloni, Minestrone Soup, Hot Choc...   \n",
       "3                                        Masala Dosa   \n",
       "4                                Panipuri, Gol Gappe   \n",
       "\n",
       "                         cuisines   cost listed_intype listed_incity  \\\n",
       "0  North Indian, Mughlai, Chinese  800.0        Buffet  Banashankari   \n",
       "1     Chinese, North Indian, Thai  800.0        Buffet  Banashankari   \n",
       "2          Cafe, Mexican, Italian  800.0        Buffet  Banashankari   \n",
       "3      South Indian, North Indian  300.0        Buffet  Banashankari   \n",
       "4        North Indian, Rajasthani  600.0        Buffet  Banashankari   \n",
       "\n",
       "    Latitude  Longitude  \n",
       "0  12.939333  77.553982  \n",
       "1  12.939333  77.553982  \n",
       "2  12.939333  77.553982  \n",
       "3  12.939333  77.553982  \n",
       "4  12.939333  77.553982  "
      ]
     },
     "execution_count": 90,
     "metadata": {},
     "output_type": "execute_result"
    }
   ],
   "source": [
    "geo_df = pd.read_csv(r\"C:\\Users\\harsh\\Downloads\\Geographical Coordinates.csv\")\n",
    "merged_df = pd.merge(df, geo_df, on='listed_incity', how='left')\n",
    "merged_df.head()"
   ]
  },
  {
   "cell_type": "code",
   "execution_count": 91,
   "id": "59d427aa-6b24-47d7-890a-ed509e3f4cdb",
   "metadata": {},
   "outputs": [],
   "source": [
    "merged_df.to_csv(\"merged_zomato_data.csv\", index=False)\n"
   ]
  },
  {
   "cell_type": "code",
   "execution_count": 87,
   "id": "f411803a-b2a5-401f-9f6d-e67530015d2f",
   "metadata": {},
   "outputs": [],
   "source": [
    "from folium.plugins import HeatMap\n",
    "\n",
    "heat_df = merged_df.dropna(subset=['Latitude', 'Longitude'])\n",
    "\n",
    "heat_data = [[row['Latitude'], row['Longitude']] for index, row in heat_df.iterrows()]\n",
    "\n",
    "bangalore_map = folium.Map(location=[12.9716, 77.5946], zoom_start=11)\n",
    "HeatMap(heat_data, radius=10).add_to(bangalore_map)\n"
   ]
  },
  {
   "cell_type": "code",
   "execution_count": 86,
   "id": "ab2b60a3-23dc-4d09-a6b5-861cd7b4b0ee",
   "metadata": {},
   "outputs": [],
   "source": [
    "italian_df = merged_df[merged_df['cuisines'].str.contains(\"Italian\", na=False)]\n",
    "italian_map = folium.Map(location=[12.9716, 77.5946], zoom_start=11)\n",
    "marker_cluster = MarkerCluster().add_to(italian_map)\n",
    "for index, row in italian_df.iterrows():\n",
    "    if pd.notnull(row['Latitude']) and pd.notnull(row['Longitude']):\n",
    "        folium.Marker(\n",
    "            location=[row['Latitude'], row['Longitude']],\n",
    "            popup=f\"Cuisine: Italian\\nRating: {row['rate']}/5\",\n",
    "            tooltip=row['listed_incity']\n",
    "        ).add_to(marker_cluster)\n"
   ]
  },
  {
   "cell_type": "code",
   "execution_count": 88,
   "id": "4757b125-db01-4e1b-9fef-1e67cffca1b3",
   "metadata": {},
   "outputs": [],
   "source": [
    "italian_map.save(\"italian_restaurants_map.html\")\n",
    "bangalore_map.save(\"restaurant_density_heatmap.html\")\n"
   ]
  }
 ],
 "metadata": {
  "kernelspec": {
   "display_name": "Python 3 (ipykernel)",
   "language": "python",
   "name": "python3"
  },
  "language_info": {
   "codemirror_mode": {
    "name": "ipython",
    "version": 3
   },
   "file_extension": ".py",
   "mimetype": "text/x-python",
   "name": "python",
   "nbconvert_exporter": "python",
   "pygments_lexer": "ipython3",
   "version": "3.13.0"
  }
 },
 "nbformat": 4,
 "nbformat_minor": 5
}
